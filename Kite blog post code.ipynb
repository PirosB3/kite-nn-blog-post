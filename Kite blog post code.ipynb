{
 "cells": [
  {
   "cell_type": "code",
   "execution_count": null,
   "metadata": {},
   "outputs": [],
   "source": [
    "%%bash\n",
    "\n",
    "rm -Rf train-images-idx3-ubyte.gz\n",
    "rm -Rf train-labels-idx1-ubyte.gz \n",
    "wget -q http://yann.lecun.com/exdb/mnist/train-images-idx3-ubyte.gz\n",
    "wget -q http://yann.lecun.com/exdb/mnist/train-labels-idx1-ubyte.gz"
   ]
  },
  {
   "cell_type": "markdown",
   "metadata": {},
   "source": [
    "# Reading the labels\n",
    "\n",
    "There are 10 possible handwritten digits: (0-9), therefore every label must be a number from 0 to 9. The file that we downloaded, `train-labels-idx1-ubyte.gz`, encodes labels as following:\n",
    "\n",
    "### TRAINING SET LABEL FILE (train-labels-idx1-ubyte):\n",
    "\n",
    "```\n",
    "[offset] [type]          [value]          [description] \n",
    "0000     32 bit integer  0x00000801(2049) magic number (MSB first) \n",
    "0004     32 bit integer  60000            number of items \n",
    "0008     unsigned byte   ??               label \n",
    "0009     unsigned byte   ??               label \n",
    "........ \n",
    "xxxx     unsigned byte   ??               label\n",
    "The labels values are 0 to 9.\n",
    "```"
   ]
  },
  {
   "cell_type": "markdown",
   "metadata": {},
   "source": [
    "So it looks like the first 8 bytes (or the first 2 32-bit integers) can be skipped because they contain metadata of the file that is usually useful to lower-level programming languages.\n",
    "To parse the file, we can perform the following operations:\n",
    "\n",
    "- Open the file using the gzip library, so that we can decompress the file\n",
    "- Read the entire byte array into memory\n",
    "- Skip the first 8 bytes\n",
    "- Iterate over every byte, and cast that byte to integer\n",
    "\n",
    "NOTE: If this file was not from a trusted source, a lot more checking would need to be done. For the purpose of this blog post, I'm going to assume the file is valid in it's integrity."
   ]
  },
  {
   "cell_type": "code",
   "execution_count": 1,
   "metadata": {},
   "outputs": [],
   "source": [
    "import gzip\n",
    "\n",
    "with gzip.open('train-labels-idx1-ubyte.gz') as train_labels:\n",
    "    data_from_train_file = train_labels.read()\n",
    "\n",
    "# Skip the first 8 bytes, we know exactly how many labels there are\n",
    "label_data = data_from_train_file[8:]\n",
    "assert len(label_data) == 60000\n",
    "\n",
    "# Convert every byte to an integer. This will be a number between 0 and 9\n",
    "labels = [int(label_byte) for label_byte in label_data]\n",
    "assert min(labels) == 0 and max(labels) == 9\n",
    "assert len(labels) == 60000\n"
   ]
  },
  {
   "cell_type": "markdown",
   "metadata": {},
   "source": [
    "## Reading the images"
   ]
  },
  {
   "cell_type": "markdown",
   "metadata": {},
   "source": [
    "\n",
    "\n",
    "```\n",
    "[offset] [type]          [value]          [description] \n",
    "0000     32 bit integer  0x00000803(2051) magic number \n",
    "0004     32 bit integer  60000            number of images \n",
    "0008     32 bit integer  28               number of rows \n",
    "0012     32 bit integer  28               number of columns \n",
    "0016     unsigned byte   ??               pixel \n",
    "0017     unsigned byte   ??               pixel \n",
    "........ \n",
    "xxxx     unsigned byte   ??               pixel\n",
    "```\n",
    "\n",
    "Reading images is slightly different than reading labels. The first 16 bytes contain metadata that we already know. We can skip those bytes and directly proceed to reading the images. Every image is represented as a 28*28 unsigned byte array. All we have to do is read one image at a time and save it into an array."
   ]
  },
  {
   "cell_type": "code",
   "execution_count": 2,
   "metadata": {},
   "outputs": [],
   "source": [
    "from typing import List\n",
    "\n",
    "SIZE_OF_ONE_IMAGE = 28 ** 2\n",
    "\n",
    "images: List[List[int]] = []\n",
    "\n",
    "with gzip.open('train-images-idx3-ubyte.gz') as train_images:\n",
    "    train_images.read(4 * 4)\n",
    "    ctr = 0\n",
    "    for _ in range(60000):\n",
    "        image = train_images.read(size=SIZE_OF_ONE_IMAGE)\n",
    "        assert len(image) == SIZE_OF_ONE_IMAGE\n",
    "        images.append(image)"
   ]
  },
  {
   "cell_type": "code",
   "execution_count": 3,
   "metadata": {},
   "outputs": [
    {
     "data": {
      "text/plain": [
       "60000"
      ]
     },
     "execution_count": 3,
     "metadata": {},
     "output_type": "execute_result"
    }
   ],
   "source": [
    "len(images)"
   ]
  },
  {
   "cell_type": "code",
   "execution_count": 4,
   "metadata": {},
   "outputs": [],
   "source": [
    "import numpy as np\n",
    "import matplotlib.pyplot as plt\n",
    "%matplotlib inline\n",
    "\n",
    "def plot_image(pixels):\n",
    "    plt.imshow(pixels.reshape((28, 28)), cmap='gray')\n",
    "    plt.show()"
   ]
  },
  {
   "cell_type": "code",
   "execution_count": 5,
   "metadata": {},
   "outputs": [],
   "source": [
    "images_np = np.array([np.frombuffer(image, dtype='uint8').reshape(SIZE_OF_ONE_IMAGE) / 255\n",
    "                      for image in images])"
   ]
  },
  {
   "cell_type": "code",
   "execution_count": 6,
   "metadata": {},
   "outputs": [
    {
     "data": {
      "image/png": "[encoded data removed]",
      "text/plain": [
       "<Figure size 432x288 with 1 Axes>"
      ]
     },
     "metadata": {
      "needs_background": "light"
     },
     "output_type": "display_data"
    }
   ],
   "source": [
    "plot_image(images_np[25])"
   ]
  },
  {
   "cell_type": "markdown",
   "metadata": {},
   "source": [
    "# Encoding image labels using one-hot encoding"
   ]
  },
  {
   "cell_type": "code",
   "execution_count": 7,
   "metadata": {},
   "outputs": [],
   "source": [
    "labels_np = np.array(labels).reshape((-1, 1))"
   ]
  },
  {
   "cell_type": "code",
   "execution_count": 8,
   "metadata": {},
   "outputs": [],
   "source": [
    "from sklearn.preprocessing import OneHotEncoder\n",
    "encoder = OneHotEncoder(categories='auto')\n",
    "labels_np_onehot = encoder.fit_transform(labels_np).toarray()"
   ]
  },
  {
   "cell_type": "code",
   "execution_count": 9,
   "metadata": {},
   "outputs": [
    {
     "data": {
      "text/plain": [
       "array([[0., 0., 0., ..., 0., 0., 0.],\n",
       "       [1., 0., 0., ..., 0., 0., 0.],\n",
       "       [0., 0., 0., ..., 0., 0., 0.],\n",
       "       ...,\n",
       "       [0., 0., 0., ..., 0., 0., 0.],\n",
       "       [0., 0., 0., ..., 0., 0., 0.],\n",
       "       [0., 0., 0., ..., 0., 1., 0.]])"
      ]
     },
     "execution_count": 9,
     "metadata": {},
     "output_type": "execute_result"
    }
   ],
   "source": [
    "labels_np_onehot"
   ]
  },
  {
   "cell_type": "code",
   "execution_count": 10,
   "metadata": {},
   "outputs": [
    {
     "data": {
      "text/plain": [
       "array([0., 0., 0., 0., 0., 0., 1., 0., 0., 0.])"
      ]
     },
     "execution_count": 10,
     "metadata": {},
     "output_type": "execute_result"
    }
   ],
   "source": [
    "labels_np_onehot[999]\n"
   ]
  },
  {
   "cell_type": "code",
   "execution_count": 11,
   "metadata": {},
   "outputs": [
    {
     "data": {
      "image/png": "[encoded data removed]",
      "text/plain": [
       "<Figure size 432x288 with 1 Axes>"
      ]
     },
     "metadata": {
      "needs_background": "light"
     },
     "output_type": "display_data"
    }
   ],
   "source": [
    "plot_image(images_np[999])"
   ]
  },
  {
   "cell_type": "markdown",
   "metadata": {},
   "source": [
    "# Building train and test split"
   ]
  },
  {
   "cell_type": "code",
   "execution_count": 12,
   "metadata": {},
   "outputs": [],
   "source": [
    "from sklearn.model_selection import train_test_split\n",
    "\n",
    "X_train, X_test, y_train, y_test = train_test_split(images_np, labels_np_onehot)"
   ]
  },
  {
   "cell_type": "code",
   "execution_count": 13,
   "metadata": {},
   "outputs": [
    {
     "data": {
      "text/plain": [
       "(45000, 10)"
      ]
     },
     "execution_count": 13,
     "metadata": {},
     "output_type": "execute_result"
    }
   ],
   "source": [
    "y_train.shape"
   ]
  },
  {
   "cell_type": "markdown",
   "metadata": {},
   "source": [
    "## Training a Neural Network using Keras"
   ]
  },
  {
   "cell_type": "code",
   "execution_count": 18,
   "metadata": {},
   "outputs": [
    {
     "name": "stdout",
     "output_type": "stream",
     "text": [
      "_________________________________________________________________\n",
      "Layer (type)                 Output Shape              Param #   \n",
      "=================================================================\n",
      "dense_6 (Dense)              (None, 128)               100480    \n",
      "_________________________________________________________________\n",
      "dense_7 (Dense)              (None, 128)               16512     \n",
      "_________________________________________________________________\n",
      "dense_8 (Dense)              (None, 10)                1290      \n",
      "=================================================================\n",
      "Total params: 118,282\n",
      "Trainable params: 118,282\n",
      "Non-trainable params: 0\n",
      "_________________________________________________________________\n"
     ]
    }
   ],
   "source": [
    "import tensorflow.keras as keras\n",
    "\n",
    "model = keras.Sequential()\n",
    "model.add(keras.layers.Dense(input_shape=(SIZE_OF_ONE_IMAGE,), units=128, activation='relu'))\n",
    "model.add(keras.layers.Dense(input_shape=(SIZE_OF_ONE_IMAGE,), units=128, activation='relu'))\n",
    "model.add(keras.layers.Dense(10, activation='softmax'))\n",
    "\n",
    "model.summary()\n",
    "\n",
    "model.compile(optimizer='sgd',\n",
    "              loss='categorical_crossentropy',\n",
    "              metrics=['accuracy'])"
   ]
  },
  {
   "cell_type": "code",
   "execution_count": 19,
   "metadata": {},
   "outputs": [
    {
     "name": "stdout",
     "output_type": "stream",
     "text": [
      "Epoch 1/20\n",
      "45000/45000 [==============================] - 9s 194us/step - loss: 1.4267 - acc: 0.6580\n",
      "Epoch 2/20\n",
      "45000/45000 [==============================] - 8s 186us/step - loss: 0.5896 - acc: 0.8558\n",
      "Epoch 3/20\n",
      "45000/45000 [==============================] - 8s 185us/step - loss: 0.4353 - acc: 0.8835\n",
      "Epoch 4/20\n",
      "45000/45000 [==============================] - 8s 185us/step - loss: 0.3745 - acc: 0.8962\n",
      "Epoch 5/20\n",
      "45000/45000 [==============================] - 9s 193us/step - loss: 0.3407 - acc: 0.9033\n",
      "Epoch 6/20\n",
      "45000/45000 [==============================] - 10s 220us/step - loss: 0.3177 - acc: 0.9099\n",
      "Epoch 7/20\n",
      "45000/45000 [==============================] - 11s 235us/step - loss: 0.3005 - acc: 0.9147\n",
      "Epoch 8/20\n",
      "45000/45000 [==============================] - 9s 203us/step - loss: 0.2866 - acc: 0.9181\n",
      "Epoch 9/20\n",
      "45000/45000 [==============================] - 9s 197us/step - loss: 0.2743 - acc: 0.9218\n",
      "Epoch 10/20\n",
      "45000/45000 [==============================] - 9s 195us/step - loss: 0.2637 - acc: 0.9248\n",
      "Epoch 11/20\n",
      "45000/45000 [==============================] - 10s 215us/step - loss: 0.2541 - acc: 0.9278\n",
      "Epoch 12/20\n",
      "45000/45000 [==============================] - 10s 212us/step - loss: 0.2456 - acc: 0.9300\n",
      "Epoch 13/20\n",
      "45000/45000 [==============================] - 9s 210us/step - loss: 0.2375 - acc: 0.9324\n",
      "Epoch 14/20\n",
      "45000/45000 [==============================] - 9s 201us/step - loss: 0.2301 - acc: 0.9346\n",
      "Epoch 15/20\n",
      "45000/45000 [==============================] - 9s 201us/step - loss: 0.2230 - acc: 0.9369\n",
      "Epoch 16/20\n",
      "45000/45000 [==============================] - 9s 206us/step - loss: 0.2168 - acc: 0.9386\n",
      "Epoch 17/20\n",
      "45000/45000 [==============================] - 10s 213us/step - loss: 0.2105 - acc: 0.9405\n",
      "Epoch 18/20\n",
      "45000/45000 [==============================] - 9s 200us/step - loss: 0.2046 - acc: 0.9424\n",
      "Epoch 19/20\n",
      "45000/45000 [==============================] - 9s 209us/step - loss: 0.1993 - acc: 0.9433\n",
      "Epoch 20/20\n",
      "45000/45000 [==============================] - 9s 196us/step - loss: 0.1941 - acc: 0.9451\n"
     ]
    },
    {
     "data": {
      "text/plain": [
       "<tensorflow.python.keras.callbacks.History at 0x1a615fc668>"
      ]
     },
     "execution_count": 19,
     "metadata": {},
     "output_type": "execute_result"
    }
   ],
   "source": [
    "model.fit(X_train, y_train, epochs=20, batch_size=128)"
   ]
  },
  {
   "cell_type": "code",
   "execution_count": 20,
   "metadata": {},
   "outputs": [
    {
     "name": "stdout",
     "output_type": "stream",
     "text": [
      "15000/15000 [==============================] - 2s 132us/step\n"
     ]
    },
    {
     "data": {
      "text/plain": [
       "[0.21733258232673008, 0.9374666666348775]"
      ]
     },
     "execution_count": 20,
     "metadata": {},
     "output_type": "execute_result"
    }
   ],
   "source": [
    "model.evaluate(X_test, y_test)"
   ]
  },
  {
   "cell_type": "markdown",
   "metadata": {},
   "source": [
    "# Inspecting the results"
   ]
  },
  {
   "cell_type": "markdown",
   "metadata": {},
   "source": [
    "Congratulations! you just trained a neural network to predict handwritten digits with 93.7% accuracy! Let's test out the network with one of the pictures we have in our testset\n",
    "\n",
    "Let's take a random image, in this case the image at index `1010`. We take the predicted label (in this case, the value is a 6 because the 7th index is set to 1)"
   ]
  },
  {
   "cell_type": "code",
   "execution_count": 21,
   "metadata": {},
   "outputs": [
    {
     "data": {
      "text/plain": [
       "array([0., 0., 0., 0., 0., 0., 1., 0., 0., 0.])"
      ]
     },
     "execution_count": 21,
     "metadata": {},
     "output_type": "execute_result"
    }
   ],
   "source": [
    "y_test[1010]"
   ]
  },
  {
   "cell_type": "markdown",
   "metadata": {},
   "source": [
    "Let's plot the image of the corresponding image"
   ]
  },
  {
   "cell_type": "code",
   "execution_count": 32,
   "metadata": {},
   "outputs": [
    {
     "data": {
      "image/png": "[encoded data removed]",
      "text/plain": [
       "<Figure size 432x288 with 1 Axes>"
      ]
     },
     "metadata": {
      "needs_background": "light"
     },
     "output_type": "display_data"
    }
   ],
   "source": [
    "plot_image(X_test[1010])"
   ]
  },
  {
   "cell_type": "markdown",
   "metadata": {},
   "source": [
    "### Understanding the output of a softmax activation layer"
   ]
  },
  {
   "cell_type": "markdown",
   "metadata": {},
   "source": [
    "Now, let's run this nuber through the neural network and we can see what our predicted output looks like!"
   ]
  },
  {
   "cell_type": "code",
   "execution_count": 49,
   "metadata": {},
   "outputs": [],
   "source": [
    "predicted_results = model.predict(X_test[1010].reshape((1, -1)))"
   ]
  },
  {
   "cell_type": "markdown",
   "metadata": {},
   "source": [
    "The output of a softmax layer is a probability distribution for every output. In our case, there are 10 possible outputs (digits 0-9). Of course, every one of our images is expected to only match one specific output (in other words, all of our images only contain one distinct digit).\n",
    "\n",
    "Because this is a probability distribution, the sum of the predicted results is 1.0"
   ]
  },
  {
   "cell_type": "code",
   "execution_count": 47,
   "metadata": {},
   "outputs": [
    {
     "data": {
      "text/plain": [
       "1.0"
      ]
     },
     "execution_count": 47,
     "metadata": {},
     "output_type": "execute_result"
    }
   ],
   "source": [
    "predicted_results.sum()"
   ]
  },
  {
   "cell_type": "markdown",
   "metadata": {},
   "source": [
    "### Reading the output of a softmax activation layer for our digit"
   ]
  },
  {
   "cell_type": "markdown",
   "metadata": {},
   "source": [
    "As you can see below, the 7th index is really close to 1 (0.9) which means that there is a 90% probability that this digit is a 6... which it is! congrats!"
   ]
  },
  {
   "cell_type": "code",
   "execution_count": 50,
   "metadata": {},
   "outputs": [
    {
     "data": {
      "text/plain": [
       "array([[4.4938503e-03, 9.2362927e-05, 2.6266586e-02, 6.4845401e-05,\n",
       "        2.1520416e-04, 1.5977553e-04, 9.0274137e-01, 3.9823781e-06,\n",
       "        6.5730967e-02, 2.3103080e-04]], dtype=float32)"
      ]
     },
     "execution_count": 50,
     "metadata": {},
     "output_type": "execute_result"
    }
   ],
   "source": [
    "predicted_results"
   ]
  },
  {
   "cell_type": "markdown",
   "metadata": {},
   "source": [
    "# Viewing the confusion matrix"
   ]
  },
  {
   "cell_type": "code",
   "execution_count": 70,
   "metadata": {},
   "outputs": [],
   "source": [
    "from sklearn.metrics import confusion_matrix\n",
    "\n",
    "predicted_outputs = np.argmax(model.predict(X_test), axis=1)\n",
    "expected_outputs = np.argmax(y_test, axis=1)\n",
    "\n",
    "predicted_confusion_matrix = confusion_matrix(expected_outputs, predicted_outputs)"
   ]
  },
  {
   "cell_type": "code",
   "execution_count": 71,
   "metadata": {},
   "outputs": [
    {
     "data": {
      "text/plain": [
       "array([[1440,    0,    8,    2,    2,   11,    8,    0,    9,    4],\n",
       "       [   0, 1678,    8,    6,    2,    1,    1,    0,   11,    3],\n",
       "       [   6,   13, 1342,   14,   20,    3,   18,   18,   23,    4],\n",
       "       [   5,    5,   27, 1408,    1,   35,    4,   11,   20,   17],\n",
       "       [   4,    5,   11,    1, 1379,    1,   15,    1,    6,   49],\n",
       "       [   9,    8,   11,   33,   11, 1260,   17,    2,   16,   17],\n",
       "       [   7,    5,   11,    0,   11,   10, 1457,    0,   11,    0],\n",
       "       [   7,   10,   22,    6,   14,    3,    0, 1431,    7,   27],\n",
       "       [   4,   20,   18,   27,    9,   16,    7,    1, 1382,   19],\n",
       "       [  11,    8,    1,   17,   48,    4,    2,   25,   13, 1285]])"
      ]
     },
     "execution_count": 71,
     "metadata": {},
     "output_type": "execute_result"
    }
   ],
   "source": [
    "predicted_confusion_matrix"
   ]
  },
  {
   "cell_type": "code",
   "execution_count": 73,
   "metadata": {},
   "outputs": [
    {
     "data": {
      "image/png": "[encoded data removed]",
      "text/plain": [
       "<Figure size 432x288 with 2 Axes>"
      ]
     },
     "metadata": {
      "needs_background": "light"
     },
     "output_type": "display_data"
    }
   ],
   "source": [
    "import itertools\n",
    "\n",
    "\n",
    "# Source code: https://scikit-learn.org/stable/auto_examples/model_selection/plot_confusion_matrix.html \n",
    "def plot_confusion_matrix(cm, classes,\n",
    "                          title='Confusion matrix',\n",
    "                          cmap=plt.cm.Blues):\n",
    "    \"\"\"\n",
    "    This function prints and plots the confusion matrix.\n",
    "    Normalization can be applied by setting `normalize=True`.\n",
    "    \"\"\"\n",
    "\n",
    "    plt.imshow(cm, interpolation='nearest', cmap=cmap)\n",
    "    plt.title(title)\n",
    "    plt.colorbar()\n",
    "    tick_marks = np.arange(len(classes))\n",
    "    plt.xticks(tick_marks, classes, rotation=45)\n",
    "    plt.yticks(tick_marks, classes)\n",
    "\n",
    "    fmt = 'd'\n",
    "    thresh = cm.max() / 2.\n",
    "    for i, j in itertools.product(range(cm.shape[0]), range(cm.shape[1])):\n",
    "        plt.text(j, i, format(cm[i, j], fmt),\n",
    "                 horizontalalignment=\"center\",\n",
    "                 color=\"white\" if cm[i, j] > thresh else \"black\")\n",
    "\n",
    "    plt.ylabel('True label')\n",
    "    plt.xlabel('Predicted label')\n",
    "    plt.tight_layout()\n",
    "\n",
    "\n",
    "# Compute confusion matrix\n",
    "class_names = [str(idx) for idx in range(10)]\n",
    "cnf_matrix = confusion_matrix(expected_outputs, predicted_outputs)\n",
    "np.set_printoptions(precision=2)\n",
    "\n",
    "# Plot non-normalized confusion matrix\n",
    "plt.figure()\n",
    "plot_confusion_matrix(cnf_matrix, classes=class_names,\n",
    "                      title='Confusion matrix, without normalization')\n",
    "\n",
    "plt.show()"
   ]
  },
  {
   "cell_type": "code",
   "execution_count": null,
   "metadata": {},
   "outputs": [],
   "source": []
  }
 ],
 "metadata": {
  "kernelspec": {
   "display_name": "Python 3",
   "language": "python",
   "name": "python3"
  },
  "language_info": {
   "codemirror_mode": {
    "name": "ipython",
    "version": 3
   },
   "file_extension": ".py",
   "mimetype": "text/x-python",
   "name": "python",
   "nbconvert_exporter": "python",
   "pygments_lexer": "ipython3",
   "version": "3.6.5"
  }
 },
 "nbformat": 4,
 "nbformat_minor": 2
}
